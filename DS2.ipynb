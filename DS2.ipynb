{
  "nbformat": 4,
  "nbformat_minor": 0,
  "metadata": {
    "colab": {
      "name": "DS2.ipynb",
      "provenance": [],
      "collapsed_sections": []
    },
    "kernelspec": {
      "name": "python3",
      "display_name": "Python 3"
    }
  },
  "cells": [
    {
      "cell_type": "markdown",
      "metadata": {
        "id": "cvjildadmkAi"
      },
      "source": [
        "#Q1\n"
      ]
    },
    {
      "cell_type": "code",
      "metadata": {
        "id": "qvPWwxalXxSi",
        "outputId": "376904fc-806e-48c8-cfab-8e27213a7257",
        "colab": {
          "base_uri": "https://localhost:8080/"
        }
      },
      "source": [
        "list1 = []\n",
        "for i in range(10): \n",
        "  li  = int(input(\"Enter Your number : \"))\n",
        "  if li%2==0:\n",
        "    list1.append(li)\n",
        "print(list1)  \n",
        "    \n",
        "\n",
        "  "
      ],
      "execution_count": null,
      "outputs": [
        {
          "output_type": "stream",
          "text": [
            "Enter Your number : 2\n",
            "Enter Your number : 5\n",
            "Enter Your number : 4\n",
            "Enter Your number : 6\n",
            "Enter Your number : 1\n",
            "[2, 4, 6]\n"
          ],
          "name": "stdout"
        }
      ]
    },
    {
      "cell_type": "markdown",
      "metadata": {
        "id": "12HVXrz8oBTC"
      },
      "source": [
        "#Q2"
      ]
    },
    {
      "cell_type": "code",
      "metadata": {
        "id": "53UkBr0Dnw4o",
        "outputId": "70f7d21a-fee2-4240-c98e-1d5bccefc9a0",
        "colab": {
          "base_uri": "https://localhost:8080/"
        }
      },
      "source": [
        "list1 = [10,35,45,63,28,73]\n",
        "list2 = []\n",
        "for i in list1:\n",
        "  if i>35:\n",
        "    list2.append(i)\n",
        "print(list2)    "
      ],
      "execution_count": null,
      "outputs": [
        {
          "output_type": "stream",
          "text": [
            "[45, 63, 73]\n"
          ],
          "name": "stdout"
        }
      ]
    },
    {
      "cell_type": "markdown",
      "metadata": {
        "id": "AW6YxtFZoJE-"
      },
      "source": [
        "#Q3"
      ]
    },
    {
      "cell_type": "code",
      "metadata": {
        "id": "bpklyvTcoIaw",
        "outputId": "cb070ef9-4adb-4327-ed75-5645da17541f",
        "colab": {
          "base_uri": "https://localhost:8080/"
        }
      },
      "source": [
        "dic1 = {}\n",
        "n = int(input())\n",
        "for i in range(1,n+1):\n",
        "  dic1[i]=i*i\n",
        "print(dic1)"
      ],
      "execution_count": null,
      "outputs": [
        {
          "output_type": "stream",
          "text": [
            "8\n",
            "{1: 1, 2: 4, 3: 9, 4: 16, 5: 25, 6: 36, 7: 49, 8: 64}\n"
          ],
          "name": "stdout"
        }
      ]
    },
    {
      "cell_type": "markdown",
      "metadata": {
        "id": "HXhJqXnapFJ4"
      },
      "source": [
        "#Q4"
      ]
    },
    {
      "cell_type": "code",
      "metadata": {
        "id": "BEffHPL1o6cm",
        "outputId": "2dc1bae6-d137-4b6c-f3e3-03a553483d31",
        "colab": {
          "base_uri": "https://localhost:8080/"
        }
      },
      "source": [
        "import math\n",
        "u = int(input(\"UP\"))\n",
        "d = int(input(\"DOWN\"))\n",
        "l = int(input(\"LEFT\"))\n",
        "r = int(input(\"RIGHT\"))\n",
        "x = abs(u-d)\n",
        "y = abs(l-r)\n",
        "res = math.sqrt(x**2+y**2)\n",
        "print(int(res))"
      ],
      "execution_count": null,
      "outputs": [
        {
          "output_type": "stream",
          "text": [
            "UP5\n",
            "DOWN3\n",
            "LEFT3\n",
            "RIGHT2\n",
            "2\n"
          ],
          "name": "stdout"
        }
      ]
    }
  ]
}